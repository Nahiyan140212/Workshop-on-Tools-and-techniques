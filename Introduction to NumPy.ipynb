{
 "cells": [
  {
   "cell_type": "markdown",
   "metadata": {},
   "source": [
    "# Introduction\n"
   ]
  },
  {
   "cell_type": "markdown",
   "metadata": {},
   "source": [
    "NumPy is the fundamental package for scientific computing with Python. It provides N-dimensional array object (ndarray), broadcasting for array operations, and standard mathematical functions for fast operations."
   ]
  },
  {
   "cell_type": "code",
   "execution_count": 9,
   "metadata": {},
   "outputs": [],
   "source": [
    "#Importing Libraries\n",
    "import numpy as np"
   ]
  },
  {
   "cell_type": "markdown",
   "metadata": {},
   "source": [
    "# Basic Array Creation and Inspection"
   ]
  },
  {
   "cell_type": "code",
   "execution_count": 2,
   "metadata": {},
   "outputs": [
    {
     "name": "stdout",
     "output_type": "stream",
     "text": [
      "1D Array: [1 2 3 4 5]\n",
      "2D Array:\n",
      " [[1 2 3]\n",
      " [4 5 6]]\n",
      "Number of dimensions: 2\n",
      "Shape of array: (2, 3)\n",
      "Data type: int32\n"
     ]
    }
   ],
   "source": [
    "\n",
    "\n",
    "# Create a 1D array\n",
    "arr_1d = np.array([1, 2, 3, 4, 5])\n",
    "print(\"1D Array:\", arr_1d)\n",
    "\n",
    "# Create a 2D array\n",
    "arr_2d = np.array([[1, 2, 3],\n",
    "                   [4, 5, 6]])\n",
    "print(\"2D Array:\\n\", arr_2d)\n",
    "\n",
    "# Check dimensions, shape, and data type\n",
    "print(\"Number of dimensions:\", arr_2d.ndim)\n",
    "print(\"Shape of array:\", arr_2d.shape)\n",
    "print(\"Data type:\", arr_2d.dtype)\n"
   ]
  },
  {
   "cell_type": "markdown",
   "metadata": {},
   "source": [
    "## Array Operations"
   ]
  },
  {
   "cell_type": "code",
   "execution_count": 3,
   "metadata": {},
   "outputs": [
    {
     "name": "stdout",
     "output_type": "stream",
     "text": [
      "Original: [10 20 30 40]\n",
      "Add 5: [15 25 35 45]\n",
      "Multiply by 2: [20 40 60 80]\n",
      "Square: [ 100  400  900 1600]\n",
      "Broadcasted sum:\n",
      " [[11 22 33]\n",
      " [14 25 36]]\n"
     ]
    }
   ],
   "source": [
    "# Element-wise operations\n",
    "arr = np.array([10, 20, 30, 40])\n",
    "print(\"Original:\", arr)\n",
    "print(\"Add 5:\", arr + 5)\n",
    "print(\"Multiply by 2:\", arr * 2)\n",
    "print(\"Square:\", arr ** 2)\n",
    "\n",
    "# Broadcasting example\n",
    "arr_a = np.array([[1, 2, 3],\n",
    "                  [4, 5, 6]])\n",
    "arr_b = np.array([10, 20, 30])\n",
    "\n",
    "print(\"Broadcasted sum:\\n\", arr_a + arr_b)\n"
   ]
  },
  {
   "cell_type": "markdown",
   "metadata": {},
   "source": [
    "# Slicing, Indexing, and Statistical Methods"
   ]
  },
  {
   "cell_type": "code",
   "execution_count": 8,
   "metadata": {},
   "outputs": [
    {
     "name": "stdout",
     "output_type": "stream",
     "text": [
      "Elements 2 to 5: [2 3 4 5]\n",
      "Even indices: [0 2 4 6 8]\n",
      "Mean: 4.5\n",
      "Standard Deviation: 2.8722813232690143\n",
      "Sum: 45\n",
      "Max value: 9\n"
     ]
    }
   ],
   "source": [
    "# Slicing & indexing\n",
    "arr = np.arange(10)  # [0, 1, 2, 3, 4, 5, 6, 7, 8, 9]\n",
    "print(\"Elements 2 to 5:\", arr[2:6])\n",
    "print(\"Even indices:\", arr[::2])  # step of 2\n",
    "\n",
    "# Statistical functions\n",
    "print(\"Mean:\", arr.mean())\n",
    "print(\"Standard Deviation:\", arr.std())\n",
    "print(\"Sum:\", arr.sum())\n",
    "print(\"Max value:\", arr.max())\n"
   ]
  }
 ],
 "metadata": {
  "kernelspec": {
   "display_name": "Python 3",
   "language": "python",
   "name": "python3"
  },
  "language_info": {
   "codemirror_mode": {
    "name": "ipython",
    "version": 3
   },
   "file_extension": ".py",
   "mimetype": "text/x-python",
   "name": "python",
   "nbconvert_exporter": "python",
   "pygments_lexer": "ipython3",
   "version": "3.11.4"
  },
  "orig_nbformat": 4
 },
 "nbformat": 4,
 "nbformat_minor": 2
}
