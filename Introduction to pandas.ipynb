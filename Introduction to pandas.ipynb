{
 "cells": [
  {
   "cell_type": "markdown",
   "metadata": {},
   "source": [
    "# Introduction to pandas\n",
    "Pandas is a library that offers:\n",
    "\n",
    "DataFrame objects for easy data manipulation,\n",
    "tools for reading/writing different file formats (CSV, Excel, SQL, etc.), grouping, merging, reshaping, and dealing with time series.\n"
   ]
  },
  {
   "cell_type": "markdown",
   "metadata": {},
   "source": [
    "\n",
    "# Creating Series and DataFrames"
   ]
  },
  {
   "cell_type": "code",
   "execution_count": null,
   "metadata": {},
   "outputs": [],
   "source": [
    "import pandas as pd"
   ]
  },
  {
   "cell_type": "code",
   "execution_count": null,
   "metadata": {},
   "outputs": [],
   "source": [
    "df = pd.read_excel()"
   ]
  },
  {
   "cell_type": "code",
   "execution_count": null,
   "metadata": {},
   "outputs": [],
   "source": [
    "# Viewing first/last rows\n",
    "print(df_csv.head())\n",
    "print(df_csv.tail())\n",
    "\n",
    "# Info, statistics\n",
    "print(df_csv.info())\n",
    "print(df_csv.describe())\n",
    "\n",
    "# Selecting columns and rows\n",
    "print(\"Select 'Name' column:\\n\", df_csv['Name'])\n",
    "print(\"Select row by index:\\n\", df_csv.iloc[1])\n",
    "\n",
    "# Filtering\n",
    "print(\"Age > 25:\\n\", df_csv[df_csv['Age'] > 25])\n"
   ]
  },
  {
   "cell_type": "code",
   "execution_count": null,
   "metadata": {},
   "outputs": [],
   "source": []
  },
  {
   "cell_type": "markdown",
   "metadata": {},
   "source": []
  }
 ],
 "metadata": {
  "kernelspec": {
   "display_name": "Python 3",
   "language": "python",
   "name": "python3"
  },
  "language_info": {
   "name": "python",
   "version": "3.11.4"
  },
  "orig_nbformat": 4
 },
 "nbformat": 4,
 "nbformat_minor": 2
}
